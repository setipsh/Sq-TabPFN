{
 "cells": [
  {
   "cell_type": "code",
   "execution_count": 1,
   "id": "a1d17a5e-d550-46cf-ad93-af5b4b8839d1",
   "metadata": {},
   "outputs": [],
   "source": [
    "import pandas as pd\n",
    "from sklearn.model_selection import train_test_split, GridSearchCV\n",
    "from sklearn.metrics import accuracy_score, precision_score, recall_score, f1_score, roc_curve, precision_recall_curve, auc, roc_auc_score\n",
    "from pytorch_tabnet.tab_model import TabNetClassifier\n",
    "import matplotlib.pyplot as plt\n",
    "import numpy as np\n",
    "from sklearn.preprocessing import LabelEncoder"
   ]
  },
  {
   "cell_type": "code",
   "execution_count": 2,
   "id": "7cf1785e-7b60-486c-bf2f-4f3bb65ce41e",
   "metadata": {},
   "outputs": [],
   "source": [
    "# 读取数据\n",
    "train = pd.read_csv('/root/autodl-fs/data/train_revise+45缩减到100特征 数量1000个 去掉三列和Name.csv')\n",
    "\n",
    "# 分离特征和标签\n",
    "X = train.drop(['senolytic'], axis=1)\n",
    "y = train['senolytic']\n",
    "\n",
    "# 划分训练集和测试集\n",
    "X_train, X_test, y_train, y_test = train_test_split(X, y, test_size=0.2, random_state=42)"
   ]
  },
  {
   "cell_type": "code",
   "execution_count": 3,
   "id": "041e867e-c592-4cf2-a1bd-4d5df1f873dc",
   "metadata": {},
   "outputs": [
    {
     "name": "stderr",
     "output_type": "stream",
     "text": [
      "/root/miniconda3/lib/python3.8/site-packages/pytorch_tabnet/abstract_model.py:82: UserWarning: Device used : cpu\n",
      "  warnings.warn(f\"Device used : {self.device}\")\n"
     ]
    },
    {
     "ename": "TypeError",
     "evalue": "Pandas DataFrame are not supported: apply X.values when calling fit",
     "output_type": "error",
     "traceback": [
      "\u001b[0;31m---------------------------------------------------------------------------\u001b[0m",
      "\u001b[0;31mTypeError\u001b[0m                                 Traceback (most recent call last)",
      "Cell \u001b[0;32mIn[3], line 30\u001b[0m\n\u001b[1;32m     28\u001b[0m \u001b[38;5;28;01mfor\u001b[39;00m lambda_sparse \u001b[38;5;129;01min\u001b[39;00m param_grid[\u001b[38;5;124m'\u001b[39m\u001b[38;5;124mlambda_sparse\u001b[39m\u001b[38;5;124m'\u001b[39m]:\n\u001b[1;32m     29\u001b[0m     tabnet \u001b[38;5;241m=\u001b[39m TabNetClassifier(n_d\u001b[38;5;241m=\u001b[39mn_d, n_a\u001b[38;5;241m=\u001b[39mn_a, n_steps\u001b[38;5;241m=\u001b[39mn_steps, gamma\u001b[38;5;241m=\u001b[39mgamma, lambda_sparse\u001b[38;5;241m=\u001b[39mlambda_sparse, seed\u001b[38;5;241m=\u001b[39m\u001b[38;5;241m42\u001b[39m)\n\u001b[0;32m---> 30\u001b[0m     \u001b[43mtabnet\u001b[49m\u001b[38;5;241;43m.\u001b[39;49m\u001b[43mfit\u001b[49m\u001b[43m(\u001b[49m\u001b[43mX_train\u001b[49m\u001b[43m,\u001b[49m\u001b[43m \u001b[49m\u001b[43my_train\u001b[49m\u001b[43m,\u001b[49m\u001b[43m \u001b[49m\u001b[43mmax_epochs\u001b[49m\u001b[38;5;241;43m=\u001b[39;49m\u001b[38;5;241;43m100\u001b[39;49m\u001b[43m,\u001b[49m\u001b[43m \u001b[49m\u001b[43mpatience\u001b[49m\u001b[38;5;241;43m=\u001b[39;49m\u001b[38;5;241;43m20\u001b[39;49m\u001b[43m,\u001b[49m\u001b[43m \u001b[49m\u001b[43mbatch_size\u001b[49m\u001b[38;5;241;43m=\u001b[39;49m\u001b[38;5;241;43m256\u001b[39;49m\u001b[43m,\u001b[49m\u001b[43m \u001b[49m\u001b[43mvirtual_batch_size\u001b[49m\u001b[38;5;241;43m=\u001b[39;49m\u001b[38;5;241;43m128\u001b[39;49m\u001b[43m,\u001b[49m\u001b[43m \u001b[49m\u001b[43mnum_workers\u001b[49m\u001b[38;5;241;43m=\u001b[39;49m\u001b[38;5;241;43m0\u001b[39;49m\u001b[43m,\u001b[49m\u001b[43m \u001b[49m\u001b[43mdrop_last\u001b[49m\u001b[38;5;241;43m=\u001b[39;49m\u001b[38;5;28;43;01mFalse\u001b[39;49;00m\u001b[43m)\u001b[49m\n\u001b[1;32m     31\u001b[0m     y_pred \u001b[38;5;241m=\u001b[39m tabnet\u001b[38;5;241m.\u001b[39mpredict(X_test)\n\u001b[1;32m     32\u001b[0m     score \u001b[38;5;241m=\u001b[39m accuracy_score(y_test, y_pred)\n",
      "File \u001b[0;32m~/miniconda3/lib/python3.8/site-packages/pytorch_tabnet/abstract_model.py:217\u001b[0m, in \u001b[0;36mTabModel.fit\u001b[0;34m(self, X_train, y_train, eval_set, eval_name, eval_metric, loss_fn, weights, max_epochs, patience, batch_size, virtual_batch_size, num_workers, drop_last, callbacks, pin_memory, from_unsupervised, warm_start, augmentations, compute_importance)\u001b[0m\n\u001b[1;32m    214\u001b[0m \u001b[38;5;28;01melse\u001b[39;00m:\n\u001b[1;32m    215\u001b[0m     \u001b[38;5;28mself\u001b[39m\u001b[38;5;241m.\u001b[39mloss_fn \u001b[38;5;241m=\u001b[39m loss_fn\n\u001b[0;32m--> 217\u001b[0m \u001b[43mcheck_input\u001b[49m\u001b[43m(\u001b[49m\u001b[43mX_train\u001b[49m\u001b[43m)\u001b[49m\n\u001b[1;32m    218\u001b[0m check_warm_start(warm_start, from_unsupervised)\n\u001b[1;32m    220\u001b[0m \u001b[38;5;28mself\u001b[39m\u001b[38;5;241m.\u001b[39mupdate_fit_params(\n\u001b[1;32m    221\u001b[0m     X_train,\n\u001b[1;32m    222\u001b[0m     y_train,\n\u001b[1;32m    223\u001b[0m     eval_set,\n\u001b[1;32m    224\u001b[0m     weights,\n\u001b[1;32m    225\u001b[0m )\n",
      "File \u001b[0;32m~/miniconda3/lib/python3.8/site-packages/pytorch_tabnet/utils.py:506\u001b[0m, in \u001b[0;36mcheck_input\u001b[0;34m(X)\u001b[0m\n\u001b[1;32m    504\u001b[0m \u001b[38;5;28;01mif\u001b[39;00m \u001b[38;5;28misinstance\u001b[39m(X, (pd\u001b[38;5;241m.\u001b[39mDataFrame, pd\u001b[38;5;241m.\u001b[39mSeries)):\n\u001b[1;32m    505\u001b[0m     err_message \u001b[38;5;241m=\u001b[39m \u001b[38;5;124m\"\u001b[39m\u001b[38;5;124mPandas DataFrame are not supported: apply X.values when calling fit\u001b[39m\u001b[38;5;124m\"\u001b[39m\n\u001b[0;32m--> 506\u001b[0m     \u001b[38;5;28;01mraise\u001b[39;00m \u001b[38;5;167;01mTypeError\u001b[39;00m(err_message)\n\u001b[1;32m    507\u001b[0m check_array(X, accept_sparse\u001b[38;5;241m=\u001b[39m\u001b[38;5;28;01mTrue\u001b[39;00m)\n",
      "\u001b[0;31mTypeError\u001b[0m: Pandas DataFrame are not supported: apply X.values when calling fit"
     ]
    }
   ],
   "source": [
    "# 标签编码\n",
    "label_encoder = LabelEncoder()\n",
    "y = label_encoder.fit_transform(y)\n",
    "\n",
    "# 划分训练集和测试集\n",
    "X_train, X_test, y_train, y_test = train_test_split(X, y, test_size=0.2, random_state=42)\n",
    "\n",
    "# 定义TabNet模型\n",
    "tabnet = TabNetClassifier()\n",
    "\n",
    "# 设置参数网格\n",
    "param_grid = {\n",
    "    'n_d': [8, 16, 24],\n",
    "    'n_a': [8, 16, 24],\n",
    "    'n_steps': [3, 5, 7],\n",
    "    'gamma': [1.0, 1.5, 2.0],\n",
    "    'lambda_sparse': [0, 1e-3, 1e-4],\n",
    "}\n",
    "\n",
    "# 进行超参数调优\n",
    "# TabNet不直接支持GridSearchCV，使用循环手动调参\n",
    "best_score = 0\n",
    "best_params = None\n",
    "for n_d in param_grid['n_d']:\n",
    "    for n_a in param_grid['n_a']:\n",
    "        for n_steps in param_grid['n_steps']:\n",
    "            for gamma in param_grid['gamma']:\n",
    "                for lambda_sparse in param_grid['lambda_sparse']:\n",
    "                    tabnet = TabNetClassifier(n_d=n_d, n_a=n_a, n_steps=n_steps, gamma=gamma, lambda_sparse=lambda_sparse, seed=42)\n",
    "                    tabnet.fit(X_train, y_train, max_epochs=100, patience=20, batch_size=256, virtual_batch_size=128, num_workers=0, drop_last=False)\n",
    "                    y_pred = tabnet.predict(X_test)\n",
    "                    score = accuracy_score(y_test, y_pred)\n",
    "                    \n",
    "                    if score > best_score:\n",
    "                        best_score = score\n",
    "                        best_params = {\n",
    "                            'n_d': n_d,\n",
    "                            'n_a': n_a,\n",
    "                            'n_steps': n_steps,\n",
    "                            'gamma': gamma,\n",
    "                            'lambda_sparse': lambda_sparse\n",
    "                        }\n"
   ]
  },
  {
   "cell_type": "code",
   "execution_count": null,
   "id": "113a05b2-696c-4d46-8363-574e38c5704e",
   "metadata": {},
   "outputs": [],
   "source": [
    "# 使用最佳参数训练模型\n",
    "best_tabnet = TabNetClassifier(**best_params)\n",
    "best_tabnet.fit(X_train, y_train, max_epochs=100, patience=20, batch_size=256, virtual_batch_size=128, num_workers=0, drop_last=False)\n",
    "\n",
    "# 预测并计算评价指标\n",
    "y_pred = best_tabnet.predict(X_test)\n",
    "y_pred_proba = best_tabnet.predict_proba(X_test)[:, 1]\n",
    "\n",
    "accuracy = accuracy_score(y_test, y_pred)\n",
    "precision = precision_score(y_test, y_pred)\n",
    "recall = recall_score(y_test, y_pred)\n",
    "f1 = f1_score(y_test, y_pred)\n",
    "roc_auc = roc_auc_score(y_test, y_pred_proba)\n",
    "\n",
    "# 计算PR曲线并计算PR AUC\n",
    "precision_vals, recall_vals, _ = precision_recall_curve(y_test, y_pred_proba)\n",
    "pr_auc = auc(recall_vals, precision_vals)\n",
    "\n",
    "\n",
    "print(\"Accuracy:\", accuracy)\n",
    "print(\"Precision:\", precision)\n",
    "print(\"Recall:\", recall)\n",
    "print(\"F1 Score:\", f1)\n",
    "print(\"ROC AUC Score:\", roc_auc)\n",
    "print(\"PR AUC Score:\", pr_auc)"
   ]
  },
  {
   "cell_type": "code",
   "execution_count": null,
   "id": "f185bdf6-737d-4c7a-b301-65036ba799c3",
   "metadata": {},
   "outputs": [],
   "source": [
    "# 绘制ROC曲线\n",
    "fpr, tpr, _ = roc_curve(y_test, y_pred_proba)\n",
    "plt.figure(figsize=(10, 5))\n",
    "plt.plot(fpr, tpr, label=f'TabNet (AUC = {roc_auc:.2f})')\n",
    "plt.plot([0, 1], [0, 1], 'k--')\n",
    "plt.xlabel('False Positive Rate')\n",
    "plt.ylabel('True Positive Rate')\n",
    "plt.title('ROC Curve')\n",
    "plt.legend()\n",
    "plt.show()"
   ]
  },
  {
   "cell_type": "code",
   "execution_count": null,
   "id": "033b722c-4a2f-4d7c-838c-5e447231a757",
   "metadata": {
    "tags": []
   },
   "outputs": [],
   "source": [
    "# 绘制PR曲线并计算AUC\n",
    "precision_vals, recall_vals, _ = precision_recall_curve(y_test, y_pred_proba)\n",
    "pr_auc = auc(recall_vals, precision_vals)\n",
    "plt.figure(figsize=(10, 5))\n",
    "plt.plot(recall_vals, precision_vals, label=f'TabNet (AUC = {pr_auc:.2f})')\n",
    "plt.xlabel('Recall')\n",
    "plt.ylabel('Precision')\n",
    "plt.title('Precision-Recall Curve')\n",
    "plt.legend()\n",
    "plt.show()"
   ]
  }
 ],
 "metadata": {
  "kernelspec": {
   "display_name": "Python 3 (ipykernel)",
   "language": "python",
   "name": "python3"
  },
  "language_info": {
   "codemirror_mode": {
    "name": "ipython",
    "version": 3
   },
   "file_extension": ".py",
   "mimetype": "text/x-python",
   "name": "python",
   "nbconvert_exporter": "python",
   "pygments_lexer": "ipython3",
   "version": "3.8.10"
  }
 },
 "nbformat": 4,
 "nbformat_minor": 5
}
