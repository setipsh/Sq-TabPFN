{
 "cells": [
  {
   "cell_type": "code",
   "execution_count": 1,
   "id": "d6d0adc8-5404-4d81-95a6-b19f2eb15099",
   "metadata": {},
   "outputs": [],
   "source": [
    "import numpy as np\n",
    "import pandas as pd\n",
    "from sklearn.model_selection import train_test_split\n",
    "from sklearn.cluster import KMeans\n",
    "from sklearn.manifold import TSNE\n",
    "from imblearn.over_sampling import SMOTE\n",
    "import matplotlib.pyplot as plt\n",
    "from matplotlib import font_manager\n",
    "import seaborn as sns\n",
    "from matplotlib.font_manager import FontProperties  "
   ]
  },
  {
   "cell_type": "code",
   "execution_count": 2,
   "id": "44f72848-07ec-4841-b0a5-6b0ee289b7b9",
   "metadata": {
    "tags": []
   },
   "outputs": [
    {
     "name": "stdout",
     "output_type": "stream",
     "text": [
      "原始训练集样本数：800\n",
      "SMOTE后训练集样本数：1254\n",
      "加入噪声后训练集样本数：1254\n",
      "MixUp增强后训练集样本数：1254\n"
     ]
    }
   ],
   "source": [
    "import pandas as pd\n",
    "import numpy as np\n",
    "from sklearn.model_selection import train_test_split\n",
    "from imblearn.over_sampling import SMOTE\n",
    "from sklearn.preprocessing import StandardScaler\n",
    "\n",
    "# 读取数据\n",
    "train = pd.read_csv('/root/autodl-fs/data/train_revise+45缩减到100特征 数量1000个 去掉三列和Name.csv')\n",
    "\n",
    "# 分离特征和标签\n",
    "X = train.drop(['senolytic'], axis=1)\n",
    "y = train['senolytic']\n",
    "\n",
    "# 划分训练集和测试集\n",
    "X_train, X_test, y_train, y_test = train_test_split(X, y, test_size=0.2, random_state=42)\n",
    "\n",
    "# 1. 使用SMOTE进行过采样\n",
    "smote = SMOTE(random_state=42)\n",
    "X_train_smote, y_train_smote = smote.fit_resample(X_train, y_train)\n",
    "\n",
    "# 2. 添加轻微噪声扰动\n",
    "def add_noise(X, noise_factor=0.01):\n",
    "    \"\"\"\n",
    "    向数据添加轻微噪声扰动\n",
    "    noise_factor：噪声的强度（默认为0.01，表示噪声相对于原始数据的比例）\n",
    "    \"\"\"\n",
    "    noise = np.random.normal(0, noise_factor, X.shape)\n",
    "    return X + noise\n",
    "\n",
    "X_train_smote_noisy = add_noise(X_train_smote)\n",
    "\n",
    "# 3. 使用MixUp进行数据增强\n",
    "def mixup(X, y, alpha=0.2):\n",
    "    \"\"\"\n",
    "    使用MixUp生成样本\n",
    "    alpha：Beta分布的参数（控制插值的强度）\n",
    "    \"\"\"\n",
    "    # 从Beta分布采样\n",
    "    lam = np.random.beta(alpha, alpha, size=X.shape[0])\n",
    "    \n",
    "    # 随机选择两个样本进行插值\n",
    "    indices = np.random.permutation(X.shape[0])\n",
    "    \n",
    "    X_mix = lam.reshape(-1, 1) * X + (1 - lam.reshape(-1, 1)) * X.iloc[indices]\n",
    "    y_mix = lam * y + (1 - lam) * y.iloc[indices]\n",
    "    \n",
    "    return X_mix, y_mix\n",
    "\n",
    "X_train_final, y_train_final = mixup(X_train_smote_noisy, y_train_smote)\n",
    "\n",
    "# 打印增强后的数据集信息\n",
    "print(f\"原始训练集样本数：{len(X_train)}\")\n",
    "print(f\"SMOTE后训练集样本数：{len(X_train_smote)}\")\n",
    "print(f\"加入噪声后训练集样本数：{len(X_train_smote_noisy)}\")\n",
    "print(f\"MixUp增强后训练集样本数：{len(X_train_final)}\")"
   ]
  },
  {
   "cell_type": "code",
   "execution_count": 3,
   "id": "02bb8231-1637-470f-9ae1-05c394f187af",
   "metadata": {
    "tags": []
   },
   "outputs": [
    {
     "name": "stderr",
     "output_type": "stream",
     "text": [
      "/tmp/ipykernel_1257/2677801922.py:3: PerformanceWarning: DataFrame is highly fragmented.  This is usually the result of calling `frame.insert` many times, which has poor performance.  Consider joining all columns at once using pd.concat(axis=1) instead. To get a de-fragmented frame, use `newframe = frame.copy()`\n",
      "  enhanced_data['senolytic'] = y_train_final  # 添加标签列\n"
     ]
    },
    {
     "name": "stdout",
     "output_type": "stream",
     "text": [
      "增强后的数据集已保存：/root/autodl-fs/data/enhanced_train_data.csv\n"
     ]
    }
   ],
   "source": [
    "# 保存增强后的数据集（SMOTE + 噪声扰动 + MixUp）\n",
    "enhanced_data = pd.DataFrame(X_train_final)  # 混合后的特征数据\n",
    "enhanced_data['senolytic'] = y_train_final  # 添加标签列\n",
    "\n",
    "# 保存为CSV文件\n",
    "enhanced_data.to_csv('/root/autodl-fs/data/enhanced_train_data.csv', index=False)\n",
    "\n",
    "# 确认保存成功\n",
    "print(\"增强后的数据集已保存：/root/autodl-fs/data/enhanced_train_data.csv\")"
   ]
  },
  {
   "cell_type": "code",
   "execution_count": null,
   "id": "407a6761-9986-4e26-9305-05b56a3da201",
   "metadata": {},
   "outputs": [],
   "source": []
  }
 ],
 "metadata": {
  "kernelspec": {
   "display_name": "Python 3 (ipykernel)",
   "language": "python",
   "name": "python3"
  },
  "language_info": {
   "codemirror_mode": {
    "name": "ipython",
    "version": 3
   },
   "file_extension": ".py",
   "mimetype": "text/x-python",
   "name": "python",
   "nbconvert_exporter": "python",
   "pygments_lexer": "ipython3",
   "version": "3.8.10"
  }
 },
 "nbformat": 4,
 "nbformat_minor": 5
}
