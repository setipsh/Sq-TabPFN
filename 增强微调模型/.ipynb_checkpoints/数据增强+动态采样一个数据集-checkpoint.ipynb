{
 "cells": [
  {
   "cell_type": "code",
   "execution_count": 1,
   "id": "d6d0adc8-5404-4d81-95a6-b19f2eb15099",
   "metadata": {},
   "outputs": [],
   "source": [
    "import numpy as np\n",
    "import pandas as pd\n",
    "from sklearn.model_selection import train_test_split\n",
    "from sklearn.cluster import KMeans\n",
    "from sklearn.manifold import TSNE\n",
    "from imblearn.over_sampling import SMOTE\n",
    "import matplotlib.pyplot as plt\n",
    "from matplotlib import font_manager\n",
    "import seaborn as sns\n",
    "from matplotlib.font_manager import FontProperties  "
   ]
  },
  {
   "cell_type": "code",
   "execution_count": 2,
   "id": "44f72848-07ec-4841-b0a5-6b0ee289b7b9",
   "metadata": {},
   "outputs": [],
   "source": [
    "# 读取数据\n",
    "train = pd.read_csv('/root/autodl-fs/data/train_revise+45缩减到100特征 数量1000个 去掉三列和Name.csv')  \n",
    "\n",
    "# 分离特征和标签\n",
    "X = train.drop(['senolytic'], axis=1)\n",
    "y = train['senolytic']  \n",
    "\n",
    "# 划分训练集和测试集\n",
    "X_train, X_test, y_train, y_test = train_test_split(X, y, test_size=0.2, random_state=42)\n"
   ]
  },
  {
   "cell_type": "code",
   "execution_count": 3,
   "id": "fe388535-10cf-4538-92fe-57bd6d4b6ad1",
   "metadata": {},
   "outputs": [],
   "source": [
    "# Step 1: 噪声扰动\n",
    "noise_level = 0.01\n",
    "X_train_noisy = X_train + noise_level * np.random.normal(size=X_train.shape)"
   ]
  },
  {
   "cell_type": "code",
   "execution_count": 4,
   "id": "f6761b48-754b-4a01-a7c2-e773ef55b597",
   "metadata": {},
   "outputs": [],
   "source": [
    "# Step 2: 次级聚类\n",
    "num_clusters = 5  # 可以根据需要调整\n",
    "X_train_augmented = X_train_noisy.copy()\n",
    "y_train_augmented = y_train.copy()"
   ]
  },
  {
   "cell_type": "code",
   "execution_count": 5,
   "id": "585e86d2-216a-46b6-8ddc-5a99a8d73b3f",
   "metadata": {},
   "outputs": [
    {
     "name": "stderr",
     "output_type": "stream",
     "text": [
      "/root/miniconda3/lib/python3.8/site-packages/sklearn/cluster/_kmeans.py:1416: FutureWarning: The default value of `n_init` will change from 10 to 'auto' in 1.4. Set the value of `n_init` explicitly to suppress the warning\n",
      "  super()._check_params_vs_input(X, default_n_init=10)\n",
      "/root/miniconda3/lib/python3.8/site-packages/sklearn/cluster/_kmeans.py:1416: FutureWarning: The default value of `n_init` will change from 10 to 'auto' in 1.4. Set the value of `n_init` explicitly to suppress the warning\n",
      "  super()._check_params_vs_input(X, default_n_init=10)\n"
     ]
    },
    {
     "name": "stdout",
     "output_type": "stream",
     "text": [
      "类别分布：\n",
      "0    632\n",
      "1    178\n",
      "Name: count, dtype: int64\n"
     ]
    }
   ],
   "source": [
    "for label in np.unique(y_train):\n",
    "    X_class = X_train_noisy[y_train == label]\n",
    "    kmeans = KMeans(n_clusters=num_clusters, random_state=42)\n",
    "    kmeans.fit(X_class)\n",
    "    X_cluster_centers = kmeans.cluster_centers_\n",
    "    X_train_augmented = np.vstack([X_train_augmented, X_cluster_centers])\n",
    "    y_train_augmented = np.concatenate([y_train_augmented, [label] * num_clusters])\n",
    "\n",
    "print(\"类别分布：\")\n",
    "print(pd.Series(y_train_augmented).value_counts())"
   ]
  },
  {
   "cell_type": "code",
   "execution_count": 6,
   "id": "2a27768b-6bf3-4684-8510-40400d705629",
   "metadata": {},
   "outputs": [
    {
     "name": "stdout",
     "output_type": "stream",
     "text": [
      "类别分布：\n",
      "1    632\n",
      "0    632\n",
      "Name: count, dtype: int64\n"
     ]
    }
   ],
   "source": [
    "# Step 3: SMOTE聚类\n",
    "smote = SMOTE(sampling_strategy='auto', random_state=42)\n",
    "X_train_smote, y_train_smote = smote.fit_resample(X_train_augmented, y_train_augmented)\n",
    "\n",
    "print(\"类别分布：\")\n",
    "print(pd.Series(y_train_smote).value_counts())"
   ]
  },
  {
   "cell_type": "code",
   "execution_count": 7,
   "id": "456efeb6-fc14-49d5-8abb-2b75cdd584a8",
   "metadata": {},
   "outputs": [
    {
     "name": "stdout",
     "output_type": "stream",
     "text": [
      "类别分布：\n",
      "0    1259\n",
      "1     805\n",
      "Name: count, dtype: int64\n"
     ]
    }
   ],
   "source": [
    "# 汇总增强数据\n",
    "X_augmented = np.vstack([X_train_smote, X_train_noisy])\n",
    "y_augmented = np.concatenate([y_train_smote, y_train])\n",
    "\n",
    "print(\"类别分布：\")\n",
    "print(pd.Series(y_augmented).value_counts())"
   ]
  },
  {
   "cell_type": "code",
   "execution_count": 8,
   "id": "8a530a81-68a0-4cef-be05-f4814f204678",
   "metadata": {},
   "outputs": [],
   "source": [
    "# 动态采样函数\n",
    "def dynamic_sampling(X, y, dataset_size=1000, support_ratio=0.8, num_samples=5):\n",
    "    sampled_datasets = []\n",
    "    for _ in range(num_samples):\n",
    "        indices = np.random.choice(len(X), dataset_size, replace=False)\n",
    "        X_sample, y_sample = X[indices], y[indices]\n",
    "\n",
    "        # 划分支持集和查询集\n",
    "        support_size = int(support_ratio * dataset_size)\n",
    "        support_indices, query_indices = indices[:support_size], indices[support_size:]\n",
    "        X_support, y_support = X[support_indices], y[support_indices]\n",
    "        X_query, y_query = X[query_indices], y[query_indices]\n",
    "\n",
    "        sampled_datasets.append((X_sample, y_sample, X_support, y_support, X_query, y_query))\n",
    "    return sampled_datasets"
   ]
  },
  {
   "cell_type": "code",
   "execution_count": 9,
   "id": "0471d738-60e6-45f5-9998-b3c223f072ae",
   "metadata": {},
   "outputs": [],
   "source": [
    "# 生成多个采样数据集\n",
    "sampled_datasets = dynamic_sampling(X_augmented, y_augmented, dataset_size=1000, support_ratio=0.8, num_samples=5)"
   ]
  },
  {
   "cell_type": "code",
   "execution_count": 10,
   "id": "06893b2c-deca-427e-a323-63589e92565a",
   "metadata": {},
   "outputs": [],
   "source": [
    "# 保存采样数据集\n",
    "import pickle\n",
    "with open(\"augmented_sampled_datasets.pkl\", \"wb\") as f:\n",
    "    pickle.dump(sampled_datasets, f)"
   ]
  },
  {
   "cell_type": "code",
   "execution_count": 11,
   "id": "574012fb-c785-4c00-8f91-c62ce982e062",
   "metadata": {},
   "outputs": [],
   "source": [
    "# 可视化和类别比例统计\n",
    "def plot_tsne_and_class_distribution(X, y, dataset_index=1):\n",
    "    # 加载自定义字体\n",
    "    font_path = \"/root/autodl-fs/Sq-TabPFN/tabpfn/增强微调模型/STXIHEI.TTF\"  # 确保该路径下有中文字体文件\n",
    "    font_prop = FontProperties(fname=font_path)\n",
    "    # t-SNE 降维\n",
    "    tsne = TSNE(n_components=2, random_state=42)\n",
    "    X_reduced = tsne.fit_transform(X)\n",
    "\n",
    "    # t-SNE 可视化\n",
    "    plt.figure(figsize=(8, 6))\n",
    "    for label in np.unique(y):\n",
    "        plt.scatter(X_reduced[y == label, 0], X_reduced[y == label, 1], label=f\"类别 {label}\", alpha=0.5)\n",
    "    #plt.xlabel(\"t-SNE 维度 1\")\n",
    "    #plt.ylabel(\"t-SNE 维度 2\")\n",
    "    plt.axis('off')  # 隐藏坐标轴\n",
    "    plt.title(f\"采样数据集 {dataset_index} - t-SNE 可视化\")\n",
    "    plt.legend()\n",
    "    plt.show()\n",
    "\n",
    "    # 打印类别比例\n",
    "    class_counts = pd.Series(y).value_counts(normalize=True)\n",
    "    print(f\"采样数据集 {dataset_index} 类别比例：\")\n",
    "    print(class_counts)\n"
   ]
  },
  {
   "cell_type": "code",
   "execution_count": 12,
   "id": "4986a14e-b642-49e9-8a4e-5cbc5642be10",
   "metadata": {},
   "outputs": [
    {
     "data": {
      "text/plain": [
       "'\\n# 原始数据集可视化\\nprint(\"原始数据集类别比例：\")\\nplot_tsne_and_class_distribution(X_train.values, y_train.values, dataset_index=\"原始数据集\")\\n'"
      ]
     },
     "execution_count": 12,
     "metadata": {},
     "output_type": "execute_result"
    }
   ],
   "source": [
    "'''\n",
    "# 原始数据集可视化\n",
    "print(\"原始数据集类别比例：\")\n",
    "plot_tsne_and_class_distribution(X_train.values, y_train.values, dataset_index=\"原始数据集\")\n",
    "'''"
   ]
  },
  {
   "cell_type": "code",
   "execution_count": 13,
   "id": "bca4a166-92a8-4d56-89aa-bf9f5fee6296",
   "metadata": {
    "tags": []
   },
   "outputs": [
    {
     "data": {
      "text/plain": [
       "'\\n# 加载自定义字体\\nfont_path = \"/root/autodl-fs/Sq-TabPFN/tabpfn/增强微调模型/STXIHEI.TTF\"  # 确保该路径下有中文字体文件\\nfont_prop = FontProperties(fname=font_path)\\n# 可视化每个采样数据集\\nfor i, (X_sample, y_sample, X_support, y_support, X_query, y_query) in enumerate(sampled_datasets, start=1):\\n    print(f\"\\n采样数据集 {i} 类别比例：\")\\n    plot_tsne_and_class_distribution(X_sample, y_sample, dataset_index=i)\\n    '"
      ]
     },
     "execution_count": 13,
     "metadata": {},
     "output_type": "execute_result"
    }
   ],
   "source": [
    "'''\n",
    "# 加载自定义字体\n",
    "font_path = \"/root/autodl-fs/Sq-TabPFN/tabpfn/增强微调模型/STXIHEI.TTF\"  # 确保该路径下有中文字体文件\n",
    "font_prop = FontProperties(fname=font_path)\n",
    "# 可视化每个采样数据集\n",
    "for i, (X_sample, y_sample, X_support, y_support, X_query, y_query) in enumerate(sampled_datasets, start=1):\n",
    "    print(f\"\\n采样数据集 {i} 类别比例：\")\n",
    "    plot_tsne_and_class_distribution(X_sample, y_sample, dataset_index=i)\n",
    "    '''"
   ]
  }
 ],
 "metadata": {
  "kernelspec": {
   "display_name": "Python 3 (ipykernel)",
   "language": "python",
   "name": "python3"
  },
  "language_info": {
   "codemirror_mode": {
    "name": "ipython",
    "version": 3
   },
   "file_extension": ".py",
   "mimetype": "text/x-python",
   "name": "python",
   "nbconvert_exporter": "python",
   "pygments_lexer": "ipython3",
   "version": "3.8.10"
  }
 },
 "nbformat": 4,
 "nbformat_minor": 5
}
