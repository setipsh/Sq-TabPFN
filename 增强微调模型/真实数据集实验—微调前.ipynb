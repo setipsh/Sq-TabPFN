{
 "cells": [
  {
   "cell_type": "code",
   "execution_count": 1,
   "id": "54495540-b8c9-4eb1-bd09-2f9e491772e4",
   "metadata": {},
   "outputs": [],
   "source": [
    "%load_ext autoreload\n",
    "\n",
    "%autoreload 2"
   ]
  },
  {
   "cell_type": "code",
   "execution_count": 2,
   "id": "f11cd023-81a8-4f31-b107-329362ac60c1",
   "metadata": {},
   "outputs": [],
   "source": [
    "import pandas as pd\n",
    "import numpy as np\n",
    "import matplotlib.pyplot as plt\n",
    "from sklearn.metrics import (accuracy_score, precision_score, recall_score, \n",
    "                             f1_score, roc_auc_score, average_precision_score, \n",
    "                             roc_curve, precision_recall_curve, auc, roc_auc_score, confusion_matrix)\n",
    "from sklearn.model_selection import train_test_split\n",
    "from tabpfn import TabPFNClassifier\n",
    "from matplotlib import font_manager\n",
    "from matplotlib.font_manager import FontProperties  \n",
    "import torch\n",
    "from torch.utils.data import DataLoader, TensorDataset"
   ]
  },
  {
   "cell_type": "code",
   "execution_count": 3,
   "id": "2d3c3283-0894-4227-8da0-8b63fd85e728",
   "metadata": {},
   "outputs": [],
   "source": [
    "# 读取数据\n",
    "train = pd.read_csv('/root/autodl-fs/data/train_revise+45缩减到100特征 数量1000个 去掉三列和Name.csv')  \n",
    "\n",
    "# 分离特征和标签\n",
    "X = train.drop(['senolytic'], axis=1)\n",
    "y = train['senolytic']\n",
    "\n",
    "# 划分训练集和测试集\n",
    "X_train, X_test, y_train, y_test = train_test_split(X, y, test_size=0.2, random_state=42)"
   ]
  },
  {
   "cell_type": "code",
   "execution_count": 7,
   "id": "cfcde8c4-3c41-42df-828a-20d748bcf4b4",
   "metadata": {},
   "outputs": [
    {
     "name": "stdout",
     "output_type": "stream",
     "text": [
      "Loading /root/autodl-fs/Sq-TabPFN/tabpfn/增强微调模型/微调编码器+动态采样数据集/encoder_finetune_best_model.cpkt\n",
      "Loading model that can be used for inference only\n"
     ]
    },
    {
     "ename": "TypeError",
     "evalue": "string indices must be integers",
     "output_type": "error",
     "traceback": [
      "\u001b[0;31m---------------------------------------------------------------------------\u001b[0m",
      "\u001b[0;31mTypeError\u001b[0m                                 Traceback (most recent call last)",
      "Cell \u001b[0;32mIn[7], line 2\u001b[0m\n\u001b[1;32m      1\u001b[0m \u001b[38;5;66;03m# 1. 加载 TabPFNClassifier 模型\u001b[39;00m\n\u001b[0;32m----> 2\u001b[0m model \u001b[38;5;241m=\u001b[39m \u001b[43mTabPFNClassifier\u001b[49m\u001b[43m(\u001b[49m\u001b[43mdevice\u001b[49m\u001b[38;5;241;43m=\u001b[39;49m\u001b[38;5;124;43m'\u001b[39;49m\u001b[38;5;124;43mcuda\u001b[39;49m\u001b[38;5;124;43m'\u001b[39;49m\u001b[43m,\u001b[49m\u001b[43m \u001b[49m\u001b[43mmodel_file\u001b[49m\u001b[38;5;241;43m=\u001b[39;49m\u001b[38;5;124;43m\"\u001b[39;49m\u001b[38;5;124;43m/root/autodl-fs/Sq-TabPFN/tabpfn/增强微调模型/微调编码器+动态采样数据集/encoder_finetune_best_model.cpkt\u001b[39;49m\u001b[38;5;124;43m\"\u001b[39;49m\u001b[43m)\u001b[49m\n\u001b[1;32m      4\u001b[0m model\u001b[38;5;241m.\u001b[39mfit(X_train, y_train)\n\u001b[1;32m      5\u001b[0m y_pred \u001b[38;5;241m=\u001b[39m model\u001b[38;5;241m.\u001b[39mpredict(X_test)\n",
      "File \u001b[0;32m~/miniconda3/lib/python3.8/site-packages/tabpfn/scripts/transformer_prediction_interface.py:190\u001b[0m, in \u001b[0;36mTabPFNClassifier.__init__\u001b[0;34m(self, device, base_path, model_string, N_ensemble_configurations, no_preprocess_mode, multiclass_decoder, feature_shift_decoder, only_inference, seed, no_grad, batch_size_inference, subsample_features, model_file)\u001b[0m\n\u001b[1;32m    187\u001b[0m             \u001b[38;5;28mprint\u001b[39m(\u001b[38;5;124m'\u001b[39m\u001b[38;5;124mMultiple models in memory. This might lead to memory issues. Consider calling remove_models_from_memory()\u001b[39m\u001b[38;5;124m'\u001b[39m)\n\u001b[1;32m    188\u001b[0m     \u001b[38;5;66;03m#style, temperature = self.load_result_minimal(style_file, i, e)\u001b[39;00m\n\u001b[1;32m    189\u001b[0m \u001b[38;5;28;01melse\u001b[39;00m:\n\u001b[0;32m--> 190\u001b[0m     model, c, results_file \u001b[38;5;241m=\u001b[39m \u001b[43mload_model_workflow_my\u001b[49m\u001b[43m(\u001b[49m\u001b[43mmodel_file\u001b[49m\u001b[43m \u001b[49m\u001b[38;5;241;43m=\u001b[39;49m\u001b[43m \u001b[49m\u001b[43mmodel_file\u001b[49m\u001b[43m,\u001b[49m\u001b[43madd_name\u001b[49m\u001b[38;5;241;43m=\u001b[39;49m\u001b[43mmodel_string\u001b[49m\u001b[43m,\u001b[49m\u001b[43m \u001b[49m\u001b[43mbase_path\u001b[49m\u001b[38;5;241;43m=\u001b[39;49m\u001b[43mbase_path\u001b[49m\u001b[43m,\u001b[49m\u001b[43m \u001b[49m\u001b[43mdevice\u001b[49m\u001b[38;5;241;43m=\u001b[39;49m\u001b[43mdevice\u001b[49m\u001b[43m,\u001b[49m\n\u001b[1;32m    191\u001b[0m \u001b[43m                                                    \u001b[49m\u001b[43meval_addition\u001b[49m\u001b[38;5;241;43m=\u001b[39;49m\u001b[38;5;124;43m'\u001b[39;49m\u001b[38;5;124;43m'\u001b[39;49m\u001b[43m,\u001b[49m\u001b[43m \u001b[49m\u001b[43monly_inference\u001b[49m\u001b[38;5;241;43m=\u001b[39;49m\u001b[43monly_inference\u001b[49m\u001b[43m)\u001b[49m\n\u001b[1;32m    192\u001b[0m \u001b[38;5;28mself\u001b[39m\u001b[38;5;241m.\u001b[39mdevice \u001b[38;5;241m=\u001b[39m device\n\u001b[1;32m    193\u001b[0m \u001b[38;5;28mself\u001b[39m\u001b[38;5;241m.\u001b[39mmodel \u001b[38;5;241m=\u001b[39m model\n",
      "File \u001b[0;32m~/miniconda3/lib/python3.8/site-packages/tabpfn/scripts/transformer_prediction_interface.py:124\u001b[0m, in \u001b[0;36mload_model_workflow_my\u001b[0;34m(model_file, add_name, base_path, device, eval_addition, only_inference)\u001b[0m\n\u001b[1;32m    122\u001b[0m \u001b[38;5;28;01mif\u001b[39;00m only_inference:\n\u001b[1;32m    123\u001b[0m     \u001b[38;5;28mprint\u001b[39m(\u001b[38;5;124m'\u001b[39m\u001b[38;5;124mLoading model that can be used for inference only\u001b[39m\u001b[38;5;124m'\u001b[39m)\n\u001b[0;32m--> 124\u001b[0m     model, c \u001b[38;5;241m=\u001b[39m \u001b[43mload_model_only_inference\u001b[49m\u001b[43m(\u001b[49m\u001b[43mbase_path\u001b[49m\u001b[43m,\u001b[49m\u001b[43m \u001b[49m\u001b[43mmodel_file\u001b[49m\u001b[43m,\u001b[49m\u001b[43m \u001b[49m\u001b[43mdevice\u001b[49m\u001b[43m)\u001b[49m\n\u001b[1;32m    126\u001b[0m \u001b[38;5;28;01melse\u001b[39;00m:\n\u001b[1;32m    127\u001b[0m     \u001b[38;5;66;03m#until now also only capable of inference\u001b[39;00m\n\u001b[1;32m    128\u001b[0m     model, c \u001b[38;5;241m=\u001b[39m load_model(base_path, model_file, device, eval_positions\u001b[38;5;241m=\u001b[39m[], verbose\u001b[38;5;241m=\u001b[39m\u001b[38;5;28;01mFalse\u001b[39;00m)\n",
      "File \u001b[0;32m~/miniconda3/lib/python3.8/site-packages/tabpfn/scripts/model_builder.py:55\u001b[0m, in \u001b[0;36mload_model_only_inference\u001b[0;34m(path, filename, device)\u001b[0m\n\u001b[1;32m     52\u001b[0m \u001b[38;5;28;01melse\u001b[39;00m:\n\u001b[1;32m     53\u001b[0m     encoder \u001b[38;5;241m=\u001b[39m partial(encoders\u001b[38;5;241m.\u001b[39mLinear, replace_nan_by_zero\u001b[38;5;241m=\u001b[39m\u001b[38;5;28;01mTrue\u001b[39;00m)\n\u001b[0;32m---> 55\u001b[0m n_out \u001b[38;5;241m=\u001b[39m \u001b[43mconfig_sample\u001b[49m\u001b[43m[\u001b[49m\u001b[38;5;124;43m'\u001b[39;49m\u001b[38;5;124;43mmax_num_classes\u001b[39;49m\u001b[38;5;124;43m'\u001b[39;49m\u001b[43m]\u001b[49m\n\u001b[1;32m     57\u001b[0m device \u001b[38;5;241m=\u001b[39m device \u001b[38;5;28;01mif\u001b[39;00m torch\u001b[38;5;241m.\u001b[39mcuda\u001b[38;5;241m.\u001b[39mis_available() \u001b[38;5;28;01melse\u001b[39;00m \u001b[38;5;124m'\u001b[39m\u001b[38;5;124mcpu:0\u001b[39m\u001b[38;5;124m'\u001b[39m\n\u001b[1;32m     58\u001b[0m encoder \u001b[38;5;241m=\u001b[39m encoder(config_sample[\u001b[38;5;124m'\u001b[39m\u001b[38;5;124mnum_features\u001b[39m\u001b[38;5;124m'\u001b[39m], config_sample[\u001b[38;5;124m'\u001b[39m\u001b[38;5;124memsize\u001b[39m\u001b[38;5;124m'\u001b[39m])\n",
      "\u001b[0;31mTypeError\u001b[0m: string indices must be integers"
     ]
    }
   ],
   "source": [
    "# 1. 加载 TabPFNClassifier 模型\n",
    "model = TabPFNClassifier(device='cuda', model_file=\"/root/autodl-fs/Sq-TabPFN/tabpfn/增强微调模型/微调编码器+动态采样数据集/encoder_finetune_best_model.cpkt\")\n",
    "\n",
    "model.fit(X_train, y_train)\n",
    "y_pred = model.predict(X_test)\n",
    "\n",
    "# 检查predict_proba方法是否存在，以便获取概率\n",
    "y_proba = model.predict_proba(X_test)[:, 1] if hasattr(model, \"predict_proba\") else model.decision_function(X_test)"
   ]
  },
  {
   "cell_type": "code",
   "execution_count": 6,
   "id": "a6863cd3-d23b-4095-b676-ae6e794405b6",
   "metadata": {
    "tags": []
   },
   "outputs": [
    {
     "name": "stdout",
     "output_type": "stream",
     "text": [
      "Accuracy: 0.9150\n",
      "Precision: 0.8077\n",
      "Recall: 0.6364\n",
      "F1 Score: 0.7119\n",
      "ROC AUC: 0.8386\n",
      "PR AUC: 0.6726\n",
      "Confusion Matrix:\n",
      "[[162   5]\n",
      " [ 12  21]]\n"
     ]
    }
   ],
   "source": [
    "accuracy = accuracy_score(y_test, y_pred)\n",
    "precision = precision_score(y_test, y_pred, average='binary')\n",
    "recall = recall_score(y_test, y_pred, average='binary')\n",
    "f1 = f1_score(y_test, y_pred, average='binary')\n",
    "fpr, tpr, _ = roc_curve(y_test, y_proba)  # 计算假阳性率和真阳性率\n",
    "roc_auc = auc(fpr, tpr) \n",
    "pr_precision, pr_recall, _ = precision_recall_curve(y_test, y_proba)\n",
    "pr_auc = auc(pr_recall, pr_precision)\n",
    "\n",
    "# 打印指标\n",
    "print(f\"Accuracy: {accuracy:.4f}\")\n",
    "print(f\"Precision: {precision:.4f}\")\n",
    "print(f\"Recall: {recall:.4f}\")\n",
    "print(f\"F1 Score: {f1:.4f}\")\n",
    "print(f\"ROC AUC: {roc_auc:.4f}\")\n",
    "print(f\"PR AUC: {pr_auc:.4f}\")\n",
    "\n",
    "# 输出混淆矩阵\n",
    "cm = confusion_matrix(y_test, y_pred)\n",
    "print(\"Confusion Matrix:\")\n",
    "print(cm)"
   ]
  },
  {
   "cell_type": "code",
   "execution_count": null,
   "id": "0740efb3-e2d5-41f2-bd3b-277ae7b14c69",
   "metadata": {},
   "outputs": [],
   "source": []
  },
  {
   "cell_type": "code",
   "execution_count": null,
   "id": "20837586-50c8-4712-b794-1b5aa4492027",
   "metadata": {},
   "outputs": [],
   "source": []
  }
 ],
 "metadata": {
  "kernelspec": {
   "display_name": "Python 3 (ipykernel)",
   "language": "python",
   "name": "python3"
  },
  "language_info": {
   "codemirror_mode": {
    "name": "ipython",
    "version": 3
   },
   "file_extension": ".py",
   "mimetype": "text/x-python",
   "name": "python",
   "nbconvert_exporter": "python",
   "pygments_lexer": "ipython3",
   "version": "3.8.10"
  }
 },
 "nbformat": 4,
 "nbformat_minor": 5
}
